{
  "nbformat": 4,
  "nbformat_minor": 0,
  "metadata": {
    "colab": {
      "provenance": [],
      "collapsed_sections": [
        "S7lBcRWN5K26",
        "tY26HaqB4qRJ",
        "SD4fQxMdNQ0c"
      ]
    },
    "kernelspec": {
      "name": "python3",
      "display_name": "Python 3"
    },
    "language_info": {
      "name": "python"
    },
    "accelerator": "GPU",
    "gpuClass": "standard"
  },
  "cells": [
    {
      "cell_type": "markdown",
      "source": [
        "# Google Drive Mount"
      ],
      "metadata": {
        "id": "S7lBcRWN5K26"
      }
    },
    {
      "cell_type": "code",
      "source": [
        "from google.colab import drive\n",
        "drive.mount('/content/gdrive/')"
      ],
      "metadata": {
        "colab": {
          "base_uri": "https://localhost:8080/"
        },
        "id": "Irq2MFlc5Vqp",
        "outputId": "18cb14c4-9818-448c-f8bc-ff60c2cef682"
      },
      "execution_count": null,
      "outputs": [
        {
          "output_type": "stream",
          "name": "stdout",
          "text": [
            "Mounted at /content/gdrive/\n"
          ]
        }
      ]
    },
    {
      "cell_type": "markdown",
      "source": [
        "# Imports"
      ],
      "metadata": {
        "id": "tY26HaqB4qRJ"
      }
    },
    {
      "cell_type": "code",
      "source": [
        "!pip install craft-text-detector"
      ],
      "metadata": {
        "id": "Go63xJ4_obhV"
      },
      "execution_count": null,
      "outputs": []
    },
    {
      "cell_type": "code",
      "execution_count": null,
      "metadata": {
        "id": "9hr1-oRH0Gf1"
      },
      "outputs": [],
      "source": [
        "from google.colab.patches import cv2_imshow\n",
        "import imutils\n",
        "import cv2\n",
        "from craft_text_detector import read_image, load_craftnet_model, load_refinenet_model, get_prediction, export_detected_regions\n",
        "import matplotlib.pyplot as plt\n",
        "import numpy as np\n",
        "import tensorflow as tf\n",
        "from tensorflow.keras.preprocessing.image import ImageDataGenerator\n",
        "from tensorflow.keras.models import Model, Sequential\n",
        "from tensorflow.keras.applications import VGG19\n",
        "from tensorflow.keras.layers import Dense, Flatten, MaxPooling2D, Dropout, Input, Conv2D\n",
        "from tensorflow.keras.optimizers import Adam\n",
        "from PIL import Image"
      ]
    },
    {
      "cell_type": "markdown",
      "source": [
        "# Training"
      ],
      "metadata": {
        "id": "xs_H2SUvHuMX"
      }
    },
    {
      "cell_type": "markdown",
      "source": [
        "## Data"
      ],
      "metadata": {
        "id": "goQAnX8G44my"
      }
    },
    {
      "cell_type": "code",
      "source": [
        "train_path = 'gdrive/MyDrive/Pengcit/license/data/train'\n",
        "val_path = 'gdrive/MyDrive/Pengcit/license/data/val'\n",
        "\n",
        "datagen = ImageDataGenerator(\n",
        "    rescale = 1./255,\n",
        "    width_shift_range = 0.1,\n",
        "    height_shift_range = 0.1\n",
        ")\n",
        "\n",
        "train_datagen = datagen.flow_from_directory(\n",
        "    train_path,\n",
        "    target_size = (32,32),\n",
        "    batch_size = 1\n",
        ")\n",
        "\n",
        "val_datagen = datagen.flow_from_directory(\n",
        "    val_path,\n",
        "    target_size = (32,32),\n",
        "    batch_size = 1\n",
        ")"
      ],
      "metadata": {
        "colab": {
          "base_uri": "https://localhost:8080/"
        },
        "id": "fsVR5GZt5CWJ",
        "outputId": "fb24c699-c35f-4b37-b9d8-00ad91a3f59e"
      },
      "execution_count": null,
      "outputs": [
        {
          "output_type": "stream",
          "name": "stdout",
          "text": [
            "Found 864 images belonging to 36 classes.\n",
            "Found 216 images belonging to 36 classes.\n"
          ]
        }
      ]
    },
    {
      "cell_type": "markdown",
      "source": [
        "## Model"
      ],
      "metadata": {
        "id": "sH_tJNf1L3zA"
      }
    },
    {
      "cell_type": "code",
      "source": [
        "def FineTunedCNN(learning_rate):\n",
        "  base_model = VGG19(include_top=False, input_tensor=Input(shape = (32,32,3)))\n",
        "\n",
        "  model = Sequential()\n",
        "  for layer in base_model.layers:\n",
        "    model.add(layer)\n",
        "  \n",
        "  model.add(Flatten())\n",
        "  model.add(Dense(128, activation=\"relu\"))\n",
        "  model.add(Dense(36, activation=\"softmax\"))\n",
        "\n",
        "  loss = \"categorical_crossentropy\"\n",
        "  optimizer = Adam(learning_rate=learning_rate)\n",
        "  metrics = [\"accuracy\"]\n",
        "  model.compile(\n",
        "      loss = loss,\n",
        "      optimizer = optimizer,\n",
        "      metrics = metrics\n",
        "  )\n",
        "\n",
        "  return model"
      ],
      "metadata": {
        "id": "R3c0VEVUL6VH"
      },
      "execution_count": null,
      "outputs": []
    },
    {
      "cell_type": "markdown",
      "source": [
        "## Train"
      ],
      "metadata": {
        "id": "cYyZDKLSGFE_"
      }
    },
    {
      "cell_type": "code",
      "source": [
        "def train(learning_rate, epochs):\n",
        "  model = FineTunedCNN(learning_rate)\n",
        "  model.fit(\n",
        "      train_datagen,\n",
        "      steps_per_epoch = train_datagen.n,\n",
        "      validation_data = val_datagen,\n",
        "      validation_steps = val_datagen.n,\n",
        "      epochs = epochs\n",
        "  )\n",
        "  return model"
      ],
      "metadata": {
        "id": "KaVjlYlkHwDm"
      },
      "execution_count": null,
      "outputs": []
    },
    {
      "cell_type": "code",
      "source": [
        "physical_devices = tf.config.list_physical_devices(\"GPU\")\n",
        "try:\n",
        "    tf.config.experimental.set_memory_growth(physical_devices[0], True)\n",
        "except:\n",
        "    pass"
      ],
      "metadata": {
        "id": "lIdJ2gaRKcqn"
      },
      "execution_count": null,
      "outputs": []
    },
    {
      "cell_type": "code",
      "source": [
        "model_a = train(2e-5, 30)"
      ],
      "metadata": {
        "colab": {
          "base_uri": "https://localhost:8080/"
        },
        "id": "Ig1vEqDrJfYs",
        "outputId": "bc0e05d2-cf20-4ef0-9d5d-84d6971fa8f8"
      },
      "execution_count": null,
      "outputs": [
        {
          "output_type": "stream",
          "name": "stdout",
          "text": [
            "Downloading data from https://storage.googleapis.com/tensorflow/keras-applications/vgg19/vgg19_weights_tf_dim_ordering_tf_kernels_notop.h5\n",
            "80134624/80134624 [==============================] - 3s 0us/step\n",
            "Epoch 1/30\n",
            "864/864 [==============================] - 559s 637ms/step - loss: 1.6926 - accuracy: 0.5208 - val_loss: 0.4291 - val_accuracy: 0.8796\n",
            "Epoch 2/30\n",
            "864/864 [==============================] - 20s 23ms/step - loss: 0.3987 - accuracy: 0.8727 - val_loss: 0.3260 - val_accuracy: 0.8935\n",
            "Epoch 3/30\n",
            "864/864 [==============================] - 20s 23ms/step - loss: 0.2286 - accuracy: 0.9259 - val_loss: 0.2464 - val_accuracy: 0.9213\n",
            "Epoch 4/30\n",
            "864/864 [==============================] - 20s 23ms/step - loss: 0.1232 - accuracy: 0.9595 - val_loss: 0.1613 - val_accuracy: 0.9537\n",
            "Epoch 5/30\n",
            "864/864 [==============================] - 21s 24ms/step - loss: 0.2696 - accuracy: 0.9213 - val_loss: 0.3982 - val_accuracy: 0.9028\n",
            "Epoch 6/30\n",
            "864/864 [==============================] - 20s 23ms/step - loss: 0.1626 - accuracy: 0.9502 - val_loss: 0.0711 - val_accuracy: 0.9676\n",
            "Epoch 7/30\n",
            "864/864 [==============================] - 20s 23ms/step - loss: 0.1064 - accuracy: 0.9664 - val_loss: 0.5260 - val_accuracy: 0.8889\n",
            "Epoch 8/30\n",
            "864/864 [==============================] - 20s 23ms/step - loss: 0.2260 - accuracy: 0.9398 - val_loss: 0.0468 - val_accuracy: 0.9722\n",
            "Epoch 9/30\n",
            "864/864 [==============================] - 20s 23ms/step - loss: 0.1849 - accuracy: 0.9572 - val_loss: 0.0738 - val_accuracy: 0.9630\n",
            "Epoch 10/30\n",
            "864/864 [==============================] - 20s 23ms/step - loss: 0.1403 - accuracy: 0.9502 - val_loss: 0.0989 - val_accuracy: 0.9769\n",
            "Epoch 11/30\n",
            "864/864 [==============================] - 20s 23ms/step - loss: 0.1155 - accuracy: 0.9595 - val_loss: 0.0424 - val_accuracy: 0.9815\n",
            "Epoch 12/30\n",
            "864/864 [==============================] - 20s 23ms/step - loss: 0.0624 - accuracy: 0.9699 - val_loss: 0.2245 - val_accuracy: 0.9074\n",
            "Epoch 13/30\n",
            "864/864 [==============================] - 20s 23ms/step - loss: 0.1643 - accuracy: 0.9468 - val_loss: 0.0525 - val_accuracy: 0.9676\n",
            "Epoch 14/30\n",
            "864/864 [==============================] - 20s 23ms/step - loss: 0.0410 - accuracy: 0.9757 - val_loss: 0.0444 - val_accuracy: 0.9722\n",
            "Epoch 15/30\n",
            "864/864 [==============================] - 20s 23ms/step - loss: 0.0908 - accuracy: 0.9699 - val_loss: 0.1068 - val_accuracy: 0.9630\n",
            "Epoch 16/30\n",
            "864/864 [==============================] - 20s 23ms/step - loss: 0.2128 - accuracy: 0.9410 - val_loss: 0.0496 - val_accuracy: 0.9676\n",
            "Epoch 17/30\n",
            "864/864 [==============================] - 20s 23ms/step - loss: 0.0400 - accuracy: 0.9780 - val_loss: 0.0332 - val_accuracy: 0.9769\n",
            "Epoch 18/30\n",
            "864/864 [==============================] - 20s 23ms/step - loss: 0.1381 - accuracy: 0.9491 - val_loss: 0.3764 - val_accuracy: 0.9074\n",
            "Epoch 19/30\n",
            "864/864 [==============================] - 20s 23ms/step - loss: 0.2052 - accuracy: 0.9387 - val_loss: 0.0952 - val_accuracy: 0.9676\n",
            "Epoch 20/30\n",
            "864/864 [==============================] - 20s 23ms/step - loss: 0.0631 - accuracy: 0.9711 - val_loss: 0.0483 - val_accuracy: 0.9722\n",
            "Epoch 21/30\n",
            "864/864 [==============================] - 21s 24ms/step - loss: 0.0420 - accuracy: 0.9803 - val_loss: 0.0367 - val_accuracy: 0.9769\n",
            "Epoch 22/30\n",
            "864/864 [==============================] - 20s 23ms/step - loss: 0.1243 - accuracy: 0.9630 - val_loss: 0.0507 - val_accuracy: 0.9676\n",
            "Epoch 23/30\n",
            "864/864 [==============================] - 20s 23ms/step - loss: 0.0376 - accuracy: 0.9792 - val_loss: 0.0658 - val_accuracy: 0.9676\n",
            "Epoch 24/30\n",
            "864/864 [==============================] - 20s 23ms/step - loss: 0.0426 - accuracy: 0.9792 - val_loss: 0.0340 - val_accuracy: 0.9722\n",
            "Epoch 25/30\n",
            "864/864 [==============================] - 20s 23ms/step - loss: 0.1069 - accuracy: 0.9722 - val_loss: 0.3190 - val_accuracy: 0.9398\n",
            "Epoch 26/30\n",
            "864/864 [==============================] - 20s 23ms/step - loss: 0.1247 - accuracy: 0.9745 - val_loss: 0.0420 - val_accuracy: 0.9722\n",
            "Epoch 27/30\n",
            "864/864 [==============================] - 20s 23ms/step - loss: 0.0540 - accuracy: 0.9792 - val_loss: 0.0468 - val_accuracy: 0.9722\n",
            "Epoch 28/30\n",
            "864/864 [==============================] - 20s 23ms/step - loss: 0.0383 - accuracy: 0.9780 - val_loss: 0.0356 - val_accuracy: 0.9769\n",
            "Epoch 29/30\n",
            "864/864 [==============================] - 20s 23ms/step - loss: 0.0685 - accuracy: 0.9757 - val_loss: 0.0621 - val_accuracy: 0.9676\n",
            "Epoch 30/30\n",
            "864/864 [==============================] - 20s 23ms/step - loss: 0.1485 - accuracy: 0.9664 - val_loss: 0.0388 - val_accuracy: 0.9769\n"
          ]
        }
      ]
    },
    {
      "cell_type": "markdown",
      "source": [
        "## Export"
      ],
      "metadata": {
        "id": "Ul2NOAQ0GMer"
      }
    },
    {
      "cell_type": "code",
      "source": [
        "save_path = 'gdrive/MyDrive/Pengcit/license/data/model_2_100.h5'\n",
        "model_a.save(save_path)"
      ],
      "metadata": {
        "id": "b1bAuW4zGMMR"
      },
      "execution_count": null,
      "outputs": []
    },
    {
      "cell_type": "markdown",
      "source": [
        "# Testing"
      ],
      "metadata": {
        "id": "FZAsRT5OGceM"
      }
    },
    {
      "cell_type": "markdown",
      "source": [
        "## ROI"
      ],
      "metadata": {
        "id": "86dUd9yyX9xg"
      }
    },
    {
      "cell_type": "code",
      "source": [
        "def roi_extract(img):\n",
        "  # CRAFT\n",
        "  output_dir = 'gdrive/MyDrive/Pengcit/license/data/craft_output/'\n",
        "\n",
        "  # read image\n",
        "  image = read_image(img)\n",
        "\n",
        "  # load models\n",
        "  refine_net = load_refinenet_model(cuda=False)\n",
        "  craft_net = load_craftnet_model(cuda=False)\n",
        "\n",
        "  # perform prediction\n",
        "  prediction_result = get_prediction(\n",
        "      image=image,\n",
        "      craft_net=craft_net,\n",
        "      refine_net=refine_net,\n",
        "      text_threshold=0.7,\n",
        "      link_threshold=0.4,\n",
        "      low_text=0.4,\n",
        "      cuda=False,\n",
        "      long_size=1280\n",
        "  )\n",
        "\n",
        "  # export detected text regions\n",
        "  exported_file_paths = export_detected_regions(\n",
        "      image=image,\n",
        "      regions=prediction_result[\"boxes\"],\n",
        "      output_dir=output_dir,\n",
        "      rectify=True\n",
        "  )\n",
        "\n",
        "  return exported_file_paths"
      ],
      "metadata": {
        "id": "rCPFI6r-NzRQ"
      },
      "execution_count": null,
      "outputs": []
    },
    {
      "cell_type": "markdown",
      "source": [
        "## Character Segmentation"
      ],
      "metadata": {
        "id": "SD4fQxMdNQ0c"
      }
    },
    {
      "cell_type": "code",
      "source": [
        "# Match contours to license plate or character template\n",
        "def find_contours(dimensions, img) :\n",
        "\n",
        "    # Find all contours in the image\n",
        "    cntrs, _ = cv2.findContours(img.copy(), cv2.RETR_TREE, cv2.CHAIN_APPROX_SIMPLE)\n",
        "\n",
        "    # Retrieve potential dimensions\n",
        "    lower_width = dimensions[0]\n",
        "    upper_width = dimensions[1]\n",
        "    lower_height = dimensions[2]\n",
        "    upper_height = dimensions[3]\n",
        "    \n",
        "    # Check largest 5 or  15 contours for license plate or character respectively\n",
        "    cntrs = sorted(cntrs, key=cv2.contourArea, reverse=True)[:15]\n",
        "    \n",
        "    ii = cv2.imread('contour.jpg')\n",
        "    \n",
        "    x_cntr_list = []\n",
        "    target_contours = []\n",
        "    img_res = []\n",
        "    for cntr in cntrs :\n",
        "        # detects contour in binary image and returns the coordinates of rectangle enclosing it\n",
        "        intX, intY, intWidth, intHeight = cv2.boundingRect(cntr)\n",
        "        \n",
        "        # checking the dimensions of the contour to filter out the characters by contour's size\n",
        "        if intWidth > lower_width and intWidth < upper_width and intHeight > lower_height and intHeight < upper_height :\n",
        "            x_cntr_list.append(intX) #stores the x coordinate of the character's contour, to used later for indexing the contours\n",
        "\n",
        "            char_copy = np.zeros((44,24))\n",
        "            # extracting each character using the enclosing rectangle's coordinates.\n",
        "            char = img[intY:intY+intHeight, intX:intX+intWidth]\n",
        "            char = cv2.resize(char, (20, 40))\n",
        "            \n",
        "            cv2.rectangle(ii, (intX,intY), (intWidth+intX, intY+intHeight), (50,21,200), 2)\n",
        "            plt.imshow(ii, cmap='gray')\n",
        "\n",
        "            # Make result formatted for classification: invert colors\n",
        "            char = cv2.subtract(255, char)\n",
        "\n",
        "            # Resize the image to 24x44 with black border\n",
        "            char_copy[2:42, 2:22] = char\n",
        "            char_copy[0:2, :] = 0\n",
        "            char_copy[:, 0:2] = 0\n",
        "            char_copy[42:44, :] = 0\n",
        "            char_copy[:, 22:24] = 0\n",
        "\n",
        "            img_res.append(char_copy) # List that stores the character's binary image (unsorted)\n",
        "            \n",
        "    # Return characters on ascending order with respect to the x-coordinate (most-left character first)\n",
        "            \n",
        "    plt.show()\n",
        "    # arbitrary function that stores sorted list of character indeces\n",
        "    indices = sorted(range(len(x_cntr_list)), key=lambda k: x_cntr_list[k])\n",
        "    img_res_copy = []\n",
        "    for idx in indices:\n",
        "        img_res_copy.append(img_res[idx])# stores character images according to their index\n",
        "    img_res = np.array(img_res_copy)\n",
        "\n",
        "    return img_res"
      ],
      "metadata": {
        "id": "HtkbKyEIr1gn"
      },
      "execution_count": null,
      "outputs": []
    },
    {
      "cell_type": "code",
      "source": [
        "def segment_characters(roi) :\n",
        "    # Preprocess cropped license plate roi\n",
        "    img_lp = cv2.resize(roi, (333, 75))\n",
        "    img_gray_lp = cv2.cvtColor(img_lp, cv2.COLOR_BGR2GRAY)\n",
        "    _, img_binary_lp = cv2.threshold(img_gray_lp, 200, 255, cv2.THRESH_BINARY+cv2.THRESH_OTSU)\n",
        "\n",
        "    # Invert the image if most are black\n",
        "    avg_color_per_row = np.average(img_binary_lp, axis=0)\n",
        "    avg_color = np.average(avg_color_per_row, axis=0)\n",
        "    if (avg_color <= 127) :\n",
        "      img_binary_lp = cv2.bitwise_not(img_binary_lp)\n",
        "\n",
        "    img_binary_lp = cv2.erode(img_binary_lp, (4,4))\n",
        "    img_binary_lp = cv2.dilate(img_binary_lp, (4,4))\n",
        "\n",
        "    LP_WIDTH = img_binary_lp.shape[0]\n",
        "    LP_HEIGHT = img_binary_lp.shape[1]\n",
        "\n",
        "    # Estimations of character contours sizes of cropped license plates\n",
        "    dimensions = [LP_WIDTH/6,\n",
        "                       LP_WIDTH/2,\n",
        "                       LP_HEIGHT/10,\n",
        "                       2*LP_HEIGHT/3]\n",
        "    plt.imshow(img_binary_lp, cmap='gray')\n",
        "    plt.show()\n",
        "    cv2.imwrite('contour.jpg',img_binary_lp)\n",
        "\n",
        "    # Get contours within cropped license plate\n",
        "    char_list = find_contours(dimensions, img_binary_lp)\n",
        "\n",
        "    return char_list"
      ],
      "metadata": {
        "id": "hPhp3DVSNVGB"
      },
      "execution_count": null,
      "outputs": []
    },
    {
      "cell_type": "markdown",
      "source": [
        "## Model Predict"
      ],
      "metadata": {
        "id": "ZTDMJZzpr8yM"
      }
    },
    {
      "cell_type": "code",
      "source": [
        "load_path = 'gdrive/MyDrive/Pengcit/license/data/model.h5'\n",
        "model_load = tf.keras.models.load_model(load_path)"
      ],
      "metadata": {
        "id": "iwYluKwbsAJG"
      },
      "execution_count": null,
      "outputs": []
    },
    {
      "cell_type": "code",
      "source": [
        "def fix_dimension(img): \n",
        "  new_img = np.zeros((32,32,3))\n",
        "  for i in range(3):\n",
        "    new_img[:,:,i] = img\n",
        "  return new_img"
      ],
      "metadata": {
        "id": "uXmyYqMcsrB0"
      },
      "execution_count": null,
      "outputs": []
    },
    {
      "cell_type": "code",
      "source": [
        "def predict_plate(char_imgs):\n",
        "  dic = {}\n",
        "  characters = '0123456789ABCDEFGHIJKLMNOPQRSTUVWXYZ'\n",
        "  for i,c in enumerate(characters):\n",
        "      dic[i] = c\n",
        "\n",
        "  output = []\n",
        "  for i,ch in enumerate(char_imgs):\n",
        "      img_ = cv2.resize(ch, (32,32), interpolation=cv2.INTER_AREA)\n",
        "      img = fix_dimension(img_)\n",
        "      img = img.reshape(1,32,32,3)\n",
        "      y_ = model_load.predict(img)[0] \n",
        "      y_ = np.argmax(y_)\n",
        "      character = dic[y_] \n",
        "      output.append(character)\n",
        "      \n",
        "  plate_number = ''.join(output)\n",
        "  \n",
        "  return plate_number"
      ],
      "metadata": {
        "id": "qhZBZ_q7sl6s"
      },
      "execution_count": null,
      "outputs": []
    },
    {
      "cell_type": "code",
      "source": [
        "img_path = 'gdrive/MyDrive/Pengcit/license/data/car_1.jpg'\n",
        "result_paths = roi_extract(img_path)\n",
        "for path in result_paths:\n",
        "  img = cv2.imread(path)\n",
        "  cv2_imshow(img)"
      ],
      "metadata": {
        "id": "c2MGnatQS_L0",
        "colab": {
          "base_uri": "https://localhost:8080/",
          "height": 98
        },
        "outputId": "f45aeebe-e255-47c8-eced-a297ff947dfd"
      },
      "execution_count": null,
      "outputs": [
        {
          "output_type": "display_data",
          "data": {
            "text/plain": [
              "<PIL.Image.Image image mode=RGB size=12x20 at 0x7F421833CAF0>"
            ],
            "image/png": "[encoded data removed]"
          },
          "metadata": {}
        },
        {
          "output_type": "display_data",
          "data": {
            "text/plain": [
              "<PIL.Image.Image image mode=RGB size=47x22 at 0x7F416928AE50>"
            ],
            "image/png": "[encoded data removed]"
          },
          "metadata": {}
        },
        {
          "output_type": "display_data",
          "data": {
            "text/plain": [
              "<PIL.Image.Image image mode=RGB size=25x22 at 0x7F421833CCD0>"
            ],
            "image/png": "[encoded data removed]"
          },
          "metadata": {}
        },
        {
          "output_type": "display_data",
          "data": {
            "text/plain": [
              "<PIL.Image.Image image mode=RGB size=30x8 at 0x7F416928AE50>"
            ],
            "image/png": "[encoded data removed]"
          },
          "metadata": {}
        }
      ]
    },
    {
      "cell_type": "code",
      "source": [
        "roi = cv2.imread(result_paths[1])\n",
        "char_imgs = segment_characters(roi)\n",
        "\n",
        "# Predicting the output\n",
        "result = predict_plate(char_imgs)\n",
        "print(result)"
      ],
      "metadata": {
        "colab": {
          "base_uri": "https://localhost:8080/",
          "height": 273
        },
        "id": "wJhSq9XTriQH",
        "outputId": "42f9fabd-9341-442c-b057-1d4922534298"
      },
      "execution_count": null,
      "outputs": [
        {
          "output_type": "display_data",
          "data": {
            "text/plain": [
              "<Figure size 432x288 with 1 Axes>"
            ],
            "image/png": "[encoded data removed]"
          },
          "metadata": {
            "needs_background": "light"
          }
        },
        {
          "output_type": "display_data",
          "data": {
            "text/plain": [
              "<Figure size 432x288 with 1 Axes>"
            ],
            "image/png": "[encoded data removed]"
          },
          "metadata": {
            "needs_background": "light"
          }
        },
        {
          "output_type": "stream",
          "name": "stdout",
          "text": [
            "1/1 [==============================] - 0s 18ms/step\n",
            "L\n"
          ]
        }
      ]
    },
    {
      "cell_type": "markdown",
      "source": [
        "# References"
      ],
      "metadata": {
        "id": "1-AdCaAYCflP"
      }
    },
    {
      "cell_type": "markdown",
      "source": [
        "* Tan, Mingxing, Quoc V.Le. 2021. EfficientNetV2: Smaller Models and Faster Training. http://arxiv.org/abs/2104.00298\n",
        "* Vajapayee, Sharthak. 2020. License plate recognition using CNN. https://www.kaggle.com/code/sarthakvajpayee/license-plate-recognition-using-cnn\n",
        "* https://pyimagesearch.com/2019/06/03/fine-tuning-with-keras-and-deep-learning/\n",
        "* https://www.kaggle.com/code/aamnafea/vgg19-fine-tuning"
      ],
      "metadata": {
        "id": "1EFC950kChIi"
      }
    }
  ]
}